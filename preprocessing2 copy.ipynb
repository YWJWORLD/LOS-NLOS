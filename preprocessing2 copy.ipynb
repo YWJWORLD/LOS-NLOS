{
 "cells": [
  {
   "cell_type": "markdown",
   "source": [
    "## Load dataset"
   ],
   "metadata": {}
  },
  {
   "cell_type": "code",
   "execution_count": 1,
   "source": [
    "import pandas as pd\n",
    "import glob\n",
    "import numpy as np\n",
    "import os\n",
    "\n"
   ],
   "outputs": [],
   "metadata": {}
  },
  {
   "cell_type": "code",
   "execution_count": 2,
   "source": [
    "data_path = './LOS_dataset'\n",
    "file_names = glob.glob(data_path+\"/*.csv\")\n",
    "df_all = pd.DataFrame()\n",
    "\n",
    "for files in file_names:\n",
    "    df_all = pd.concat([df_all, pd.read_csv(files)])\n",
    "    "
   ],
   "outputs": [],
   "metadata": {}
  },
  {
   "cell_type": "code",
   "execution_count": 14,
   "source": [
    "print(df_all.shape)\n",
    "print(df_all.info)\n"
   ],
   "outputs": [
    {
     "output_type": "stream",
     "name": "stdout",
     "text": [
      "(30664, 1017)\n",
      "<bound method DataFrame.info of       LOS  CIR0  CIR1  CIR2  CIR3  CIR4  CIR5  CIR6  CIR7  CIR8  ...  CIR1006  \\\n",
      "0       1   322   297   151    83   267   230   181   241   149  ...    176.0   \n",
      "1       1   224   318   286   230   343    89   150   375   222  ...    363.0   \n",
      "2       1   236   198   306   257   159   218   215   415   118  ...     74.0   \n",
      "3       1   185   198   257   110   282   296   263   154   159  ...    219.0   \n",
      "4       1   124   111   202   163   102   207   170   167   141  ...    174.0   \n",
      "...   ...   ...   ...   ...   ...   ...   ...   ...   ...   ...  ...      ...   \n",
      "3995    1   291    38   148   194    90    92   208   277   208  ...    118.0   \n",
      "3996    1   119   176    94   224   323   189   102   114    69  ...    141.0   \n",
      "3997    1    23   141    25   146   271    54   303   113   156  ...    102.0   \n",
      "3998    1   118   200   127   244   200   232   357    77    54  ...    193.0   \n",
      "3999    1   228   150   179    61   158   118   278    32   148  ...    242.0   \n",
      "\n",
      "      CIR1007  CIR1008  CIR1009  CIR1010  CIR1011  CIR1012  CIR1013  CIR1014  \\\n",
      "0       366.0    268.0    440.0    161.0    331.0    212.0    127.0    176.0   \n",
      "1       224.0    411.0    366.0    157.0    214.0    277.0    152.0    213.0   \n",
      "2       123.0    237.0    146.0    263.0    164.0     92.0     50.0     64.0   \n",
      "3       270.0    236.0    107.0     52.0    205.0    164.0    118.0    361.0   \n",
      "4       111.0    313.0    245.0    103.0    252.0    327.0      9.0    121.0   \n",
      "...       ...      ...      ...      ...      ...      ...      ...      ...   \n",
      "3995    242.0    137.0    145.0    261.0    168.0    202.0    354.0    197.0   \n",
      "3996     66.0    224.0    305.0    186.0    230.0    229.0     48.0    185.0   \n",
      "3997     36.0    225.0    171.0    268.0    132.0    125.0     70.0    365.0   \n",
      "3998    257.0    249.0    221.0     67.0    324.0    184.0     25.0    111.0   \n",
      "3999    236.0    136.0    158.0    128.0     56.0    126.0    183.0     89.0   \n",
      "\n",
      "      CIR1015  \n",
      "0       265.0  \n",
      "1       240.0  \n",
      "2       119.0  \n",
      "3        99.0  \n",
      "4       133.0  \n",
      "...       ...  \n",
      "3995    330.0  \n",
      "3996     34.0  \n",
      "3997    125.0  \n",
      "3998     81.0  \n",
      "3999    112.0  \n",
      "\n",
      "[30664 rows x 1017 columns]>\n"
     ]
    }
   ],
   "metadata": {}
  },
  {
   "cell_type": "code",
   "execution_count": 15,
   "source": [
    "df_all['LOS'].value_counts()"
   ],
   "outputs": [
    {
     "output_type": "execute_result",
     "data": {
      "text/plain": [
       "0    15584\n",
       "1    15080\n",
       "Name: LOS, dtype: int64"
      ]
     },
     "metadata": {},
     "execution_count": 15
    }
   ],
   "metadata": {}
  },
  {
   "cell_type": "code",
   "execution_count": null,
   "source": [],
   "outputs": [],
   "metadata": {}
  }
 ],
 "metadata": {
  "orig_nbformat": 4,
  "language_info": {
   "name": "python",
   "version": "3.8.8",
   "mimetype": "text/x-python",
   "codemirror_mode": {
    "name": "ipython",
    "version": 3
   },
   "pygments_lexer": "ipython3",
   "nbconvert_exporter": "python",
   "file_extension": ".py"
  },
  "kernelspec": {
   "name": "python3",
   "display_name": "Python 3.8.8 64-bit ('base': conda)"
  },
  "interpreter": {
   "hash": "b7841b5bf659e2c15a8570382b3618f44ad97c354bb3b2e2f7b0a9ff6ceaa60a"
  }
 },
 "nbformat": 4,
 "nbformat_minor": 2
}