{
 "cells": [
  {
   "cell_type": "code",
   "execution_count": 5,
   "source": [
    "# imports\n",
    "\n",
    "import pickle\n",
    "import numpy as np\n",
    "import pandas as pd\n",
    "from sklearn.model_selection import train_test_split"
   ],
   "outputs": [],
   "metadata": {}
  },
  {
   "cell_type": "markdown",
   "source": [
    "\n",
    "## hyper-parameters"
   ],
   "metadata": {}
  },
  {
   "cell_type": "code",
   "execution_count": 7,
   "source": [
    "random_seed = 42"
   ],
   "outputs": [],
   "metadata": {}
  },
  {
   "cell_type": "markdown",
   "source": [
    "## Preprocessing and Loading dataset"
   ],
   "metadata": {}
  },
  {
   "cell_type": "code",
   "execution_count": 4,
   "source": [
    "with open('dataset.pkl', 'rb') as f:\n",
    "    data = pickle.load(f)\n",
    "\n",
    "df_uwb_data = data['data_CIR']\n",
    "df_uwb = data['data_t']"
   ],
   "outputs": [],
   "metadata": {}
  },
  {
   "cell_type": "code",
   "execution_count": 16,
   "source": [
    "## Train & valdiation & Test split\n",
    "X_train, X_test, y_train, y_test = train_test_split(df_uwb_data.values, df_uwb['NLOS'].values, test_size=0.1, random_state=random_seed, stratify=df_uwb['NLOS'].values)\n",
    "X_train, X_val, y_train, y_val = train_test_split(X_train, y_train, test_size=0.1, random_state=random_seed, stratify=y_train)\n",
    "\n",
    "print('X_train_shape {}, y_train_shape {} : '.format(X_train.shape, y_train.shape))\n",
    "print('X_val_shape {}, y_val_shape {} : '.format(X_val.shape, y_val.shape))\n",
    "print('X_test_shape {}, y_test_shape {} : '.format(X_test.shape, y_test.shape))\n",
    "\n",
    "print(\"Train NLOS 0 count :\", len(y_train[y_train==0])) \n",
    "print(\"Train NLOS 1 count :\", len(y_train[y_train==1])) \n",
    "print(\"Validation NLOS 0 count :\", len(y_val[y_val==0])) \n",
    "print(\"Validation NLOS 1 count :\", len(y_val[y_val==1])) \n",
    "print(\"Test NLOS 0 count :\", len(y_test[y_test==0])) \n",
    "print(\"Test NLOS 0 count :\", len(y_test[y_test==1]))\n"
   ],
   "outputs": [
    {
     "output_type": "stream",
     "name": "stdout",
     "text": [
      "X_train_shape (34020, 1016), y_train_shape (34020,) : \n",
      "X_val_shape (3780, 1016), y_val_shape (3780,) : \n",
      "X_test_shape (4200, 1016), y_test_shape (4200,) : \n",
      "Train NLOS 0 count : 17010\n",
      "Train NLOS 1 count : 17010\n",
      "Validation NLOS 0 count : 1890\n",
      "Validation NLOS 1 count : 1890\n",
      "Test NLOS 0 count : 2100\n",
      "Test NLOS 0 count : 2100\n"
     ]
    }
   ],
   "metadata": {}
  },
  {
   "cell_type": "code",
   "execution_count": 34,
   "source": [
    "y_train_lst = y_train.tolist()\n",
    "idx_los = np.where(y_train==0)[0]\n",
    "idx_nlos = np.where(y_train==1)[0]\n",
    "print(idx_los)\n",
    "print(idx_nlos)"
   ],
   "outputs": [
    {
     "output_type": "stream",
     "name": "stdout",
     "text": [
      "[    1     2     3 ... 34015 34016 34017]\n",
      "[    0     4     5 ... 34012 34018 34019]\n"
     ]
    }
   ],
   "metadata": {}
  },
  {
   "cell_type": "code",
   "execution_count": 17,
   "source": [
    "class SiameseNetworkDataset():\n",
    "    \n",
    "    def __init__(self,training_csv=None,training_dir=None,transform=None):\n",
    "        # used to prepare the labels and images path\n",
    "        self.training_df=pd.read_csv(training_csv)\n",
    "        self.training_df.columns =[\"image1\",\"image2\",\"label\"]\n",
    "        self.training_dir = training_dir    \n",
    "        self.transform = transform\n",
    "\n",
    "    def __getitem__(self,index):\n",
    "        \n",
    "        # getting the image path\n",
    "        image1_path=os.path.join(self.training_dir,self.training_df.iat[index,0])\n",
    "        image2_path=os.path.join(self.training_dir,self.training_df.iat[index,1])\n",
    "        \n",
    "        \n",
    "        # Loading the image\n",
    "        img0 = Image.open(image1_path)\n",
    "        img1 = Image.open(image2_path)\n",
    "        img0 = img0.convert(\"L\")\n",
    "        img1 = img1.convert(\"L\")\n",
    "        \n",
    "        # Apply image transformations\n",
    "        if self.transform is not None:\n",
    "            img0 = self.transform(img0)\n",
    "            img1 = self.transform(img1)\n",
    "        \n",
    "        return img0, img1 , torch.from_numpy(np.array([int(self.training_df.iat[index,2])],dtype=np.float32))\n",
    "    \n",
    "    def __len__(self):\n",
    "        return len(self.training_df)"
   ],
   "outputs": [],
   "metadata": {}
  },
  {
   "cell_type": "code",
   "execution_count": null,
   "source": [],
   "outputs": [],
   "metadata": {}
  }
 ],
 "metadata": {
  "orig_nbformat": 4,
  "language_info": {
   "name": "python",
   "version": "3.9.6",
   "mimetype": "text/x-python",
   "codemirror_mode": {
    "name": "ipython",
    "version": 3
   },
   "pygments_lexer": "ipython3",
   "nbconvert_exporter": "python",
   "file_extension": ".py"
  },
  "kernelspec": {
   "name": "python3",
   "display_name": "Python 3.9.6 64-bit ('p1_ml': conda)"
  },
  "interpreter": {
   "hash": "45ad390018fe16e49d36e7f3f69bb2868b1f449ecdbcbe075a23198a68f4bc93"
  }
 },
 "nbformat": 4,
 "nbformat_minor": 2
}